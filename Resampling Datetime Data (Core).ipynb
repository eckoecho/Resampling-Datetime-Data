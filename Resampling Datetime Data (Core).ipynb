{
 "cells": [
  {
   "cell_type": "code",
   "execution_count": 364,
   "id": "478bbfae",
   "metadata": {},
   "outputs": [],
   "source": [
    "import pandas as pd\n",
    "import matplotlib.pyplot as plt\n",
    "#import tick customization tools\n",
    "import matplotlib.ticker as mticks\n",
    "import matplotlib.dates as mdates"
   ]
  },
  {
   "cell_type": "markdown",
   "id": "7a64ed30",
   "metadata": {},
   "source": [
    "# Load"
   ]
  },
  {
   "cell_type": "code",
   "execution_count": 365,
   "id": "e47d5587",
   "metadata": {},
   "outputs": [
    {
     "data": {
      "text/html": [
       "<div>\n",
       "<style scoped>\n",
       "    .dataframe tbody tr th:only-of-type {\n",
       "        vertical-align: middle;\n",
       "    }\n",
       "\n",
       "    .dataframe tbody tr th {\n",
       "        vertical-align: top;\n",
       "    }\n",
       "\n",
       "    .dataframe thead th {\n",
       "        text-align: right;\n",
       "    }\n",
       "</style>\n",
       "<table border=\"1\" class=\"dataframe\">\n",
       "  <thead>\n",
       "    <tr style=\"text-align: right;\">\n",
       "      <th></th>\n",
       "      <th>date</th>\n",
       "      <th>cloud_cover</th>\n",
       "      <th>sunshine</th>\n",
       "      <th>global_radiation</th>\n",
       "      <th>max_temp</th>\n",
       "      <th>mean_temp</th>\n",
       "      <th>min_temp</th>\n",
       "      <th>precipitation</th>\n",
       "      <th>pressure</th>\n",
       "      <th>snow_depth</th>\n",
       "    </tr>\n",
       "  </thead>\n",
       "  <tbody>\n",
       "    <tr>\n",
       "      <th>0</th>\n",
       "      <td>19790101</td>\n",
       "      <td>2.0</td>\n",
       "      <td>7.0</td>\n",
       "      <td>52.0</td>\n",
       "      <td>2.3</td>\n",
       "      <td>-4.1</td>\n",
       "      <td>-7.5</td>\n",
       "      <td>0.4</td>\n",
       "      <td>101900.0</td>\n",
       "      <td>9.0</td>\n",
       "    </tr>\n",
       "    <tr>\n",
       "      <th>1</th>\n",
       "      <td>19790102</td>\n",
       "      <td>6.0</td>\n",
       "      <td>1.7</td>\n",
       "      <td>27.0</td>\n",
       "      <td>1.6</td>\n",
       "      <td>-2.6</td>\n",
       "      <td>-7.5</td>\n",
       "      <td>0.0</td>\n",
       "      <td>102530.0</td>\n",
       "      <td>8.0</td>\n",
       "    </tr>\n",
       "    <tr>\n",
       "      <th>2</th>\n",
       "      <td>19790103</td>\n",
       "      <td>5.0</td>\n",
       "      <td>0.0</td>\n",
       "      <td>13.0</td>\n",
       "      <td>1.3</td>\n",
       "      <td>-2.8</td>\n",
       "      <td>-7.2</td>\n",
       "      <td>0.0</td>\n",
       "      <td>102050.0</td>\n",
       "      <td>4.0</td>\n",
       "    </tr>\n",
       "    <tr>\n",
       "      <th>3</th>\n",
       "      <td>19790104</td>\n",
       "      <td>8.0</td>\n",
       "      <td>0.0</td>\n",
       "      <td>13.0</td>\n",
       "      <td>-0.3</td>\n",
       "      <td>-2.6</td>\n",
       "      <td>-6.5</td>\n",
       "      <td>0.0</td>\n",
       "      <td>100840.0</td>\n",
       "      <td>2.0</td>\n",
       "    </tr>\n",
       "    <tr>\n",
       "      <th>4</th>\n",
       "      <td>19790105</td>\n",
       "      <td>6.0</td>\n",
       "      <td>2.0</td>\n",
       "      <td>29.0</td>\n",
       "      <td>5.6</td>\n",
       "      <td>-0.8</td>\n",
       "      <td>-1.4</td>\n",
       "      <td>0.0</td>\n",
       "      <td>102250.0</td>\n",
       "      <td>1.0</td>\n",
       "    </tr>\n",
       "  </tbody>\n",
       "</table>\n",
       "</div>"
      ],
      "text/plain": [
       "       date  cloud_cover  sunshine  global_radiation  max_temp  mean_temp  \\\n",
       "0  19790101          2.0       7.0              52.0       2.3       -4.1   \n",
       "1  19790102          6.0       1.7              27.0       1.6       -2.6   \n",
       "2  19790103          5.0       0.0              13.0       1.3       -2.8   \n",
       "3  19790104          8.0       0.0              13.0      -0.3       -2.6   \n",
       "4  19790105          6.0       2.0              29.0       5.6       -0.8   \n",
       "\n",
       "   min_temp  precipitation  pressure  snow_depth  \n",
       "0      -7.5            0.4  101900.0         9.0  \n",
       "1      -7.5            0.0  102530.0         8.0  \n",
       "2      -7.2            0.0  102050.0         4.0  \n",
       "3      -6.5            0.0  100840.0         2.0  \n",
       "4      -1.4            0.0  102250.0         1.0  "
      ]
     },
     "execution_count": 365,
     "metadata": {},
     "output_type": "execute_result"
    }
   ],
   "source": [
    "fpath=\"Data/london_weather_MODIFIED - london_weather_MODIFIED.csv\"\n",
    "df = pd.read_csv(fpath)\n",
    "df.head()"
   ]
  },
  {
   "cell_type": "markdown",
   "id": "3cb42da7",
   "metadata": {},
   "source": [
    "# Set `datetime` as Index"
   ]
  },
  {
   "cell_type": "code",
   "execution_count": 366,
   "id": "921bf59a",
   "metadata": {},
   "outputs": [
    {
     "data": {
      "text/html": [
       "<div>\n",
       "<style scoped>\n",
       "    .dataframe tbody tr th:only-of-type {\n",
       "        vertical-align: middle;\n",
       "    }\n",
       "\n",
       "    .dataframe tbody tr th {\n",
       "        vertical-align: top;\n",
       "    }\n",
       "\n",
       "    .dataframe thead th {\n",
       "        text-align: right;\n",
       "    }\n",
       "</style>\n",
       "<table border=\"1\" class=\"dataframe\">\n",
       "  <thead>\n",
       "    <tr style=\"text-align: right;\">\n",
       "      <th></th>\n",
       "      <th>date</th>\n",
       "      <th>cloud_cover</th>\n",
       "      <th>sunshine</th>\n",
       "      <th>global_radiation</th>\n",
       "      <th>max_temp</th>\n",
       "      <th>mean_temp</th>\n",
       "      <th>min_temp</th>\n",
       "      <th>precipitation</th>\n",
       "      <th>pressure</th>\n",
       "      <th>snow_depth</th>\n",
       "    </tr>\n",
       "    <tr>\n",
       "      <th>datetime</th>\n",
       "      <th></th>\n",
       "      <th></th>\n",
       "      <th></th>\n",
       "      <th></th>\n",
       "      <th></th>\n",
       "      <th></th>\n",
       "      <th></th>\n",
       "      <th></th>\n",
       "      <th></th>\n",
       "      <th></th>\n",
       "    </tr>\n",
       "  </thead>\n",
       "  <tbody>\n",
       "    <tr>\n",
       "      <th>1979-01-01</th>\n",
       "      <td>19790101</td>\n",
       "      <td>2.0</td>\n",
       "      <td>7.0</td>\n",
       "      <td>52.0</td>\n",
       "      <td>2.3</td>\n",
       "      <td>-4.1</td>\n",
       "      <td>-7.5</td>\n",
       "      <td>0.4</td>\n",
       "      <td>101900.0</td>\n",
       "      <td>9.0</td>\n",
       "    </tr>\n",
       "    <tr>\n",
       "      <th>1979-01-02</th>\n",
       "      <td>19790102</td>\n",
       "      <td>6.0</td>\n",
       "      <td>1.7</td>\n",
       "      <td>27.0</td>\n",
       "      <td>1.6</td>\n",
       "      <td>-2.6</td>\n",
       "      <td>-7.5</td>\n",
       "      <td>0.0</td>\n",
       "      <td>102530.0</td>\n",
       "      <td>8.0</td>\n",
       "    </tr>\n",
       "    <tr>\n",
       "      <th>1979-01-03</th>\n",
       "      <td>19790103</td>\n",
       "      <td>5.0</td>\n",
       "      <td>0.0</td>\n",
       "      <td>13.0</td>\n",
       "      <td>1.3</td>\n",
       "      <td>-2.8</td>\n",
       "      <td>-7.2</td>\n",
       "      <td>0.0</td>\n",
       "      <td>102050.0</td>\n",
       "      <td>4.0</td>\n",
       "    </tr>\n",
       "    <tr>\n",
       "      <th>1979-01-04</th>\n",
       "      <td>19790104</td>\n",
       "      <td>8.0</td>\n",
       "      <td>0.0</td>\n",
       "      <td>13.0</td>\n",
       "      <td>-0.3</td>\n",
       "      <td>-2.6</td>\n",
       "      <td>-6.5</td>\n",
       "      <td>0.0</td>\n",
       "      <td>100840.0</td>\n",
       "      <td>2.0</td>\n",
       "    </tr>\n",
       "    <tr>\n",
       "      <th>1979-01-05</th>\n",
       "      <td>19790105</td>\n",
       "      <td>6.0</td>\n",
       "      <td>2.0</td>\n",
       "      <td>29.0</td>\n",
       "      <td>5.6</td>\n",
       "      <td>-0.8</td>\n",
       "      <td>-1.4</td>\n",
       "      <td>0.0</td>\n",
       "      <td>102250.0</td>\n",
       "      <td>1.0</td>\n",
       "    </tr>\n",
       "  </tbody>\n",
       "</table>\n",
       "</div>"
      ],
      "text/plain": [
       "                date  cloud_cover  sunshine  global_radiation  max_temp  \\\n",
       "datetime                                                                  \n",
       "1979-01-01  19790101          2.0       7.0              52.0       2.3   \n",
       "1979-01-02  19790102          6.0       1.7              27.0       1.6   \n",
       "1979-01-03  19790103          5.0       0.0              13.0       1.3   \n",
       "1979-01-04  19790104          8.0       0.0              13.0      -0.3   \n",
       "1979-01-05  19790105          6.0       2.0              29.0       5.6   \n",
       "\n",
       "            mean_temp  min_temp  precipitation  pressure  snow_depth  \n",
       "datetime                                                              \n",
       "1979-01-01       -4.1      -7.5            0.4  101900.0         9.0  \n",
       "1979-01-02       -2.6      -7.5            0.0  102530.0         8.0  \n",
       "1979-01-03       -2.8      -7.2            0.0  102050.0         4.0  \n",
       "1979-01-04       -2.6      -6.5            0.0  100840.0         2.0  \n",
       "1979-01-05       -0.8      -1.4            0.0  102250.0         1.0  "
      ]
     },
     "execution_count": 366,
     "metadata": {},
     "output_type": "execute_result"
    }
   ],
   "source": [
    "# Set the datetime column as the index\n",
    "#Setting format so date isnt interpreted as minutes\n",
    "df[\"datetime\"] = pd.to_datetime(df[\"date\"], format=\"%Y%m%d\")\n",
    "# Set the date column as the index\n",
    "df = df.set_index(\"datetime\")\n",
    "df.head()"
   ]
  },
  {
   "cell_type": "code",
   "execution_count": 367,
   "id": "1f76b9b6",
   "metadata": {},
   "outputs": [
    {
     "data": {
      "text/html": [
       "<div>\n",
       "<style scoped>\n",
       "    .dataframe tbody tr th:only-of-type {\n",
       "        vertical-align: middle;\n",
       "    }\n",
       "\n",
       "    .dataframe tbody tr th {\n",
       "        vertical-align: top;\n",
       "    }\n",
       "\n",
       "    .dataframe thead th {\n",
       "        text-align: right;\n",
       "    }\n",
       "</style>\n",
       "<table border=\"1\" class=\"dataframe\">\n",
       "  <thead>\n",
       "    <tr style=\"text-align: right;\">\n",
       "      <th></th>\n",
       "      <th>date</th>\n",
       "      <th>cloud_cover</th>\n",
       "      <th>sunshine</th>\n",
       "      <th>global_radiation</th>\n",
       "      <th>max_temp</th>\n",
       "      <th>mean_temp</th>\n",
       "      <th>min_temp</th>\n",
       "      <th>precipitation</th>\n",
       "      <th>pressure</th>\n",
       "      <th>snow_depth</th>\n",
       "    </tr>\n",
       "    <tr>\n",
       "      <th>datetime</th>\n",
       "      <th></th>\n",
       "      <th></th>\n",
       "      <th></th>\n",
       "      <th></th>\n",
       "      <th></th>\n",
       "      <th></th>\n",
       "      <th></th>\n",
       "      <th></th>\n",
       "      <th></th>\n",
       "      <th></th>\n",
       "    </tr>\n",
       "  </thead>\n",
       "  <tbody>\n",
       "    <tr>\n",
       "      <th>2000-01-01</th>\n",
       "      <td>20000101</td>\n",
       "      <td>7.0</td>\n",
       "      <td>0.4</td>\n",
       "      <td>18.0</td>\n",
       "      <td>10.8</td>\n",
       "      <td>7.0</td>\n",
       "      <td>4.9</td>\n",
       "      <td>0.0</td>\n",
       "      <td>102450.0</td>\n",
       "      <td>0.0</td>\n",
       "    </tr>\n",
       "    <tr>\n",
       "      <th>2000-01-02</th>\n",
       "      <td>20000102</td>\n",
       "      <td>7.0</td>\n",
       "      <td>0.7</td>\n",
       "      <td>20.0</td>\n",
       "      <td>11.5</td>\n",
       "      <td>7.9</td>\n",
       "      <td>5.0</td>\n",
       "      <td>0.2</td>\n",
       "      <td>102530.0</td>\n",
       "      <td>0.0</td>\n",
       "    </tr>\n",
       "    <tr>\n",
       "      <th>2000-01-03</th>\n",
       "      <td>20000103</td>\n",
       "      <td>8.0</td>\n",
       "      <td>0.0</td>\n",
       "      <td>13.0</td>\n",
       "      <td>9.5</td>\n",
       "      <td>9.4</td>\n",
       "      <td>7.2</td>\n",
       "      <td>6.0</td>\n",
       "      <td>101860.0</td>\n",
       "      <td>0.0</td>\n",
       "    </tr>\n",
       "    <tr>\n",
       "      <th>2000-01-04</th>\n",
       "      <td>20000104</td>\n",
       "      <td>5.0</td>\n",
       "      <td>2.9</td>\n",
       "      <td>34.0</td>\n",
       "      <td>11.0</td>\n",
       "      <td>7.0</td>\n",
       "      <td>4.4</td>\n",
       "      <td>0.2</td>\n",
       "      <td>101480.0</td>\n",
       "      <td>0.0</td>\n",
       "    </tr>\n",
       "    <tr>\n",
       "      <th>2000-01-05</th>\n",
       "      <td>20000105</td>\n",
       "      <td>5.0</td>\n",
       "      <td>1.3</td>\n",
       "      <td>25.0</td>\n",
       "      <td>10.8</td>\n",
       "      <td>6.4</td>\n",
       "      <td>1.9</td>\n",
       "      <td>0.8</td>\n",
       "      <td>101420.0</td>\n",
       "      <td>0.0</td>\n",
       "    </tr>\n",
       "    <tr>\n",
       "      <th>...</th>\n",
       "      <td>...</td>\n",
       "      <td>...</td>\n",
       "      <td>...</td>\n",
       "      <td>...</td>\n",
       "      <td>...</td>\n",
       "      <td>...</td>\n",
       "      <td>...</td>\n",
       "      <td>...</td>\n",
       "      <td>...</td>\n",
       "      <td>...</td>\n",
       "    </tr>\n",
       "    <tr>\n",
       "      <th>2020-12-27</th>\n",
       "      <td>20201227</td>\n",
       "      <td>1.0</td>\n",
       "      <td>0.9</td>\n",
       "      <td>32.0</td>\n",
       "      <td>7.5</td>\n",
       "      <td>7.5</td>\n",
       "      <td>7.6</td>\n",
       "      <td>2.0</td>\n",
       "      <td>98000.0</td>\n",
       "      <td>NaN</td>\n",
       "    </tr>\n",
       "    <tr>\n",
       "      <th>2020-12-28</th>\n",
       "      <td>20201228</td>\n",
       "      <td>7.0</td>\n",
       "      <td>3.7</td>\n",
       "      <td>38.0</td>\n",
       "      <td>3.6</td>\n",
       "      <td>1.1</td>\n",
       "      <td>-1.3</td>\n",
       "      <td>0.2</td>\n",
       "      <td>97370.0</td>\n",
       "      <td>NaN</td>\n",
       "    </tr>\n",
       "    <tr>\n",
       "      <th>2020-12-29</th>\n",
       "      <td>20201229</td>\n",
       "      <td>7.0</td>\n",
       "      <td>0.0</td>\n",
       "      <td>21.0</td>\n",
       "      <td>4.1</td>\n",
       "      <td>2.6</td>\n",
       "      <td>1.1</td>\n",
       "      <td>0.0</td>\n",
       "      <td>98830.0</td>\n",
       "      <td>NaN</td>\n",
       "    </tr>\n",
       "    <tr>\n",
       "      <th>2020-12-30</th>\n",
       "      <td>20201230</td>\n",
       "      <td>6.0</td>\n",
       "      <td>0.4</td>\n",
       "      <td>22.0</td>\n",
       "      <td>5.6</td>\n",
       "      <td>2.7</td>\n",
       "      <td>-0.1</td>\n",
       "      <td>0.0</td>\n",
       "      <td>100200.0</td>\n",
       "      <td>NaN</td>\n",
       "    </tr>\n",
       "    <tr>\n",
       "      <th>2020-12-31</th>\n",
       "      <td>20201231</td>\n",
       "      <td>7.0</td>\n",
       "      <td>1.3</td>\n",
       "      <td>34.0</td>\n",
       "      <td>1.5</td>\n",
       "      <td>-0.8</td>\n",
       "      <td>-3.1</td>\n",
       "      <td>0.0</td>\n",
       "      <td>100500.0</td>\n",
       "      <td>NaN</td>\n",
       "    </tr>\n",
       "  </tbody>\n",
       "</table>\n",
       "<p>7671 rows × 10 columns</p>\n",
       "</div>"
      ],
      "text/plain": [
       "                date  cloud_cover  sunshine  global_radiation  max_temp  \\\n",
       "datetime                                                                  \n",
       "2000-01-01  20000101          7.0       0.4              18.0      10.8   \n",
       "2000-01-02  20000102          7.0       0.7              20.0      11.5   \n",
       "2000-01-03  20000103          8.0       0.0              13.0       9.5   \n",
       "2000-01-04  20000104          5.0       2.9              34.0      11.0   \n",
       "2000-01-05  20000105          5.0       1.3              25.0      10.8   \n",
       "...              ...          ...       ...               ...       ...   \n",
       "2020-12-27  20201227          1.0       0.9              32.0       7.5   \n",
       "2020-12-28  20201228          7.0       3.7              38.0       3.6   \n",
       "2020-12-29  20201229          7.0       0.0              21.0       4.1   \n",
       "2020-12-30  20201230          6.0       0.4              22.0       5.6   \n",
       "2020-12-31  20201231          7.0       1.3              34.0       1.5   \n",
       "\n",
       "            mean_temp  min_temp  precipitation  pressure  snow_depth  \n",
       "datetime                                                              \n",
       "2000-01-01        7.0       4.9            0.0  102450.0         0.0  \n",
       "2000-01-02        7.9       5.0            0.2  102530.0         0.0  \n",
       "2000-01-03        9.4       7.2            6.0  101860.0         0.0  \n",
       "2000-01-04        7.0       4.4            0.2  101480.0         0.0  \n",
       "2000-01-05        6.4       1.9            0.8  101420.0         0.0  \n",
       "...               ...       ...            ...       ...         ...  \n",
       "2020-12-27        7.5       7.6            2.0   98000.0         NaN  \n",
       "2020-12-28        1.1      -1.3            0.2   97370.0         NaN  \n",
       "2020-12-29        2.6       1.1            0.0   98830.0         NaN  \n",
       "2020-12-30        2.7      -0.1            0.0  100200.0         NaN  \n",
       "2020-12-31       -0.8      -3.1            0.0  100500.0         NaN  \n",
       "\n",
       "[7671 rows x 10 columns]"
      ]
     },
     "execution_count": 367,
     "metadata": {},
     "output_type": "execute_result"
    }
   ],
   "source": [
    "#Keep only data from the year 2000 or later\n",
    "df = df.loc[\"2000\":].copy()\n",
    "df"
   ]
  },
  {
   "cell_type": "markdown",
   "id": "80b22bd8",
   "metadata": {},
   "source": [
    "# Drop Columns"
   ]
  },
  {
   "cell_type": "code",
   "execution_count": 368,
   "id": "6a98e9bb",
   "metadata": {},
   "outputs": [
    {
     "data": {
      "text/html": [
       "<div>\n",
       "<style scoped>\n",
       "    .dataframe tbody tr th:only-of-type {\n",
       "        vertical-align: middle;\n",
       "    }\n",
       "\n",
       "    .dataframe tbody tr th {\n",
       "        vertical-align: top;\n",
       "    }\n",
       "\n",
       "    .dataframe thead th {\n",
       "        text-align: right;\n",
       "    }\n",
       "</style>\n",
       "<table border=\"1\" class=\"dataframe\">\n",
       "  <thead>\n",
       "    <tr style=\"text-align: right;\">\n",
       "      <th></th>\n",
       "      <th>max_temp</th>\n",
       "      <th>mean_temp</th>\n",
       "      <th>min_temp</th>\n",
       "      <th>precipitation</th>\n",
       "      <th>snow_depth</th>\n",
       "    </tr>\n",
       "    <tr>\n",
       "      <th>datetime</th>\n",
       "      <th></th>\n",
       "      <th></th>\n",
       "      <th></th>\n",
       "      <th></th>\n",
       "      <th></th>\n",
       "    </tr>\n",
       "  </thead>\n",
       "  <tbody>\n",
       "    <tr>\n",
       "      <th>2000-01-01</th>\n",
       "      <td>10.8</td>\n",
       "      <td>7.0</td>\n",
       "      <td>4.9</td>\n",
       "      <td>0.0</td>\n",
       "      <td>0.0</td>\n",
       "    </tr>\n",
       "    <tr>\n",
       "      <th>2000-01-02</th>\n",
       "      <td>11.5</td>\n",
       "      <td>7.9</td>\n",
       "      <td>5.0</td>\n",
       "      <td>0.2</td>\n",
       "      <td>0.0</td>\n",
       "    </tr>\n",
       "    <tr>\n",
       "      <th>2000-01-03</th>\n",
       "      <td>9.5</td>\n",
       "      <td>9.4</td>\n",
       "      <td>7.2</td>\n",
       "      <td>6.0</td>\n",
       "      <td>0.0</td>\n",
       "    </tr>\n",
       "    <tr>\n",
       "      <th>2000-01-04</th>\n",
       "      <td>11.0</td>\n",
       "      <td>7.0</td>\n",
       "      <td>4.4</td>\n",
       "      <td>0.2</td>\n",
       "      <td>0.0</td>\n",
       "    </tr>\n",
       "    <tr>\n",
       "      <th>2000-01-05</th>\n",
       "      <td>10.8</td>\n",
       "      <td>6.4</td>\n",
       "      <td>1.9</td>\n",
       "      <td>0.8</td>\n",
       "      <td>0.0</td>\n",
       "    </tr>\n",
       "  </tbody>\n",
       "</table>\n",
       "</div>"
      ],
      "text/plain": [
       "            max_temp  mean_temp  min_temp  precipitation  snow_depth\n",
       "datetime                                                            \n",
       "2000-01-01      10.8        7.0       4.9            0.0         0.0\n",
       "2000-01-02      11.5        7.9       5.0            0.2         0.0\n",
       "2000-01-03       9.5        9.4       7.2            6.0         0.0\n",
       "2000-01-04      11.0        7.0       4.4            0.2         0.0\n",
       "2000-01-05      10.8        6.4       1.9            0.8         0.0"
      ]
     },
     "execution_count": 368,
     "metadata": {},
     "output_type": "execute_result"
    }
   ],
   "source": [
    "#Dropping columns we dont need\n",
    "df = df.drop(columns=[\"date\", \"cloud_cover\", \"sunshine\", \"global_radiation\", \"pressure\"])\n",
    "df.head()"
   ]
  },
  {
   "cell_type": "code",
   "execution_count": 369,
   "id": "3994a951",
   "metadata": {},
   "outputs": [
    {
     "data": {
      "text/plain": [
       "DatetimeIndex(['2000-01-01', '2000-01-02', '2000-01-03', '2000-01-04',\n",
       "               '2000-01-05', '2000-01-06', '2000-01-07', '2000-01-08',\n",
       "               '2000-01-09', '2000-01-10',\n",
       "               ...\n",
       "               '2020-12-22', '2020-12-23', '2020-12-24', '2020-12-25',\n",
       "               '2020-12-26', '2020-12-27', '2020-12-28', '2020-12-29',\n",
       "               '2020-12-30', '2020-12-31'],\n",
       "              dtype='datetime64[ns]', name='datetime', length=7671, freq=None)"
      ]
     },
     "execution_count": 369,
     "metadata": {},
     "output_type": "execute_result"
    }
   ],
   "source": [
    "#Checking for missing values\n",
    "df.index"
   ]
  },
  {
   "cell_type": "code",
   "execution_count": 370,
   "id": "9f1c8576",
   "metadata": {},
   "outputs": [
    {
     "data": {
      "text/plain": [
       "count    7281.000000\n",
       "mean        1.723376\n",
       "std         3.675610\n",
       "min         0.000000\n",
       "25%         0.000000\n",
       "50%         0.000000\n",
       "75%         1.800000\n",
       "max        51.600000\n",
       "Name: precipitation, dtype: float64"
      ]
     },
     "execution_count": 370,
     "metadata": {},
     "output_type": "execute_result"
    }
   ],
   "source": [
    "df[\"precipitation\"].describe()"
   ]
  },
  {
   "cell_type": "markdown",
   "id": "8ab30325",
   "metadata": {},
   "source": [
    "# Methods for Imputing Null Values with Time Series\n",
    "\n",
    "## Setting the Frequency"
   ]
  },
  {
   "cell_type": "code",
   "execution_count": 371,
   "id": "270c6309",
   "metadata": {},
   "outputs": [
    {
     "data": {
      "text/plain": [
       "DatetimeIndex(['2000-01-01', '2000-01-02', '2000-01-03', '2000-01-04',\n",
       "               '2000-01-05', '2000-01-06', '2000-01-07', '2000-01-08',\n",
       "               '2000-01-09', '2000-01-10',\n",
       "               ...\n",
       "               '2020-12-22', '2020-12-23', '2020-12-24', '2020-12-25',\n",
       "               '2020-12-26', '2020-12-27', '2020-12-28', '2020-12-29',\n",
       "               '2020-12-30', '2020-12-31'],\n",
       "              dtype='datetime64[ns]', name='datetime', length=7671, freq='D')"
      ]
     },
     "execution_count": 371,
     "metadata": {},
     "output_type": "execute_result"
    }
   ],
   "source": [
    "# Setting all the data's frequency to daily\n",
    "df = df.asfreq('D')\n",
    "#Preview index to ensure frequence is updated\n",
    "df.index"
   ]
  },
  {
   "cell_type": "markdown",
   "id": "c10732c1",
   "metadata": {},
   "source": [
    "# Impute"
   ]
  },
  {
   "cell_type": "code",
   "execution_count": 372,
   "id": "d18d3164",
   "metadata": {},
   "outputs": [
    {
     "name": "stdout",
     "output_type": "stream",
     "text": [
      "<class 'pandas.core.frame.DataFrame'>\n",
      "DatetimeIndex: 7671 entries, 2000-01-01 to 2020-12-31\n",
      "Freq: D\n",
      "Data columns (total 5 columns):\n",
      " #   Column         Non-Null Count  Dtype  \n",
      "---  ------         --------------  -----  \n",
      " 0   max_temp       7281 non-null   float64\n",
      " 1   mean_temp      7252 non-null   float64\n",
      " 2   min_temp       7285 non-null   float64\n",
      " 3   precipitation  7281 non-null   float64\n",
      " 4   snow_depth     5919 non-null   float64\n",
      "dtypes: float64(5)\n",
      "memory usage: 359.6 KB\n"
     ]
    }
   ],
   "source": [
    "df.info()"
   ]
  },
  {
   "cell_type": "code",
   "execution_count": 373,
   "id": "97526d70",
   "metadata": {},
   "outputs": [
    {
     "data": {
      "text/plain": [
       "datetime\n",
       "2000-01-01    10.8\n",
       "2000-01-02    11.5\n",
       "2000-01-03     9.5\n",
       "2000-01-04    11.0\n",
       "2000-01-05    10.8\n",
       "              ... \n",
       "2020-12-27     7.5\n",
       "2020-12-28     3.6\n",
       "2020-12-29     4.1\n",
       "2020-12-30     5.6\n",
       "2020-12-31     1.5\n",
       "Freq: D, Name: max_temp, Length: 7671, dtype: float64"
      ]
     },
     "execution_count": 373,
     "metadata": {},
     "output_type": "execute_result"
    }
   ],
   "source": [
    "df[\"max_temp\"] = df[\"max_temp\"].interpolate()\n",
    "df[\"max_temp\"]"
   ]
  },
  {
   "cell_type": "code",
   "execution_count": 374,
   "id": "821e9228",
   "metadata": {},
   "outputs": [
    {
     "data": {
      "text/plain": [
       "datetime\n",
       "2000-01-01    7.0\n",
       "2000-01-02    7.9\n",
       "2000-01-03    9.4\n",
       "2000-01-04    7.0\n",
       "2000-01-05    6.4\n",
       "             ... \n",
       "2020-12-27    7.5\n",
       "2020-12-28    1.1\n",
       "2020-12-29    2.6\n",
       "2020-12-30    2.7\n",
       "2020-12-31   -0.8\n",
       "Freq: D, Name: mean_temp, Length: 7671, dtype: float64"
      ]
     },
     "execution_count": 374,
     "metadata": {},
     "output_type": "execute_result"
    }
   ],
   "source": [
    "df[\"mean_temp\"] = df[\"mean_temp\"].interpolate()\n",
    "df[\"mean_temp\"]"
   ]
  },
  {
   "cell_type": "code",
   "execution_count": 375,
   "id": "2140d637",
   "metadata": {},
   "outputs": [
    {
     "data": {
      "text/plain": [
       "datetime\n",
       "2000-01-01    4.9\n",
       "2000-01-02    5.0\n",
       "2000-01-03    7.2\n",
       "2000-01-04    4.4\n",
       "2000-01-05    1.9\n",
       "             ... \n",
       "2020-12-27    7.6\n",
       "2020-12-28   -1.3\n",
       "2020-12-29    1.1\n",
       "2020-12-30   -0.1\n",
       "2020-12-31   -3.1\n",
       "Freq: D, Name: min_temp, Length: 7671, dtype: float64"
      ]
     },
     "execution_count": 375,
     "metadata": {},
     "output_type": "execute_result"
    }
   ],
   "source": [
    "df[\"min_temp\"] = df[\"min_temp\"].interpolate()\n",
    "df[\"min_temp\"]"
   ]
  },
  {
   "cell_type": "code",
   "execution_count": 376,
   "id": "eaa5177d",
   "metadata": {},
   "outputs": [
    {
     "data": {
      "text/plain": [
       "datetime\n",
       "2000-01-01    0.0\n",
       "2000-01-02    0.2\n",
       "2000-01-03    6.0\n",
       "2000-01-04    0.2\n",
       "2000-01-05    0.8\n",
       "             ... \n",
       "2020-12-27    2.0\n",
       "2020-12-28    0.2\n",
       "2020-12-29    0.0\n",
       "2020-12-30    0.0\n",
       "2020-12-31    0.0\n",
       "Freq: D, Name: precipitation, Length: 7671, dtype: float64"
      ]
     },
     "execution_count": 376,
     "metadata": {},
     "output_type": "execute_result"
    }
   ],
   "source": [
    "# replacing NaNs in precipitation w/Interpolate\n",
    "df[\"precipitation\"] = df[\"precipitation\"].interpolate()\n",
    "df[\"precipitation\"]"
   ]
  },
  {
   "cell_type": "code",
   "execution_count": 377,
   "id": "3579a36c",
   "metadata": {},
   "outputs": [
    {
     "data": {
      "text/plain": [
       "datetime\n",
       "2000-01-01    0.0\n",
       "2000-01-02    0.0\n",
       "2000-01-03    0.0\n",
       "2000-01-04    0.0\n",
       "2000-01-05    0.0\n",
       "             ... \n",
       "2020-12-27    0.0\n",
       "2020-12-28    0.0\n",
       "2020-12-29    0.0\n",
       "2020-12-30    0.0\n",
       "2020-12-31    0.0\n",
       "Freq: D, Name: snow_depth, Length: 7671, dtype: float64"
      ]
     },
     "execution_count": 377,
     "metadata": {},
     "output_type": "execute_result"
    }
   ],
   "source": [
    "#replacing NaNs in snow_depth(bfill)\n",
    "df[\"snow_depth\"] = df[\"snow_depth\"].fillna(method='ffill')\n",
    "df[\"snow_depth\"]"
   ]
  },
  {
   "cell_type": "code",
   "execution_count": 378,
   "id": "c2560c9c",
   "metadata": {},
   "outputs": [
    {
     "data": {
      "text/plain": [
       "max_temp         0\n",
       "mean_temp        0\n",
       "min_temp         0\n",
       "precipitation    0\n",
       "snow_depth       0\n",
       "dtype: int64"
      ]
     },
     "execution_count": 378,
     "metadata": {},
     "output_type": "execute_result"
    }
   ],
   "source": [
    "#Ensuring all date imputed\n",
    "df.isna().sum()"
   ]
  },
  {
   "cell_type": "markdown",
   "id": "7e59712c",
   "metadata": {},
   "source": [
    "# Use .agg() to Resample Time Series with Multiple Columns using Different Aggregation Methods\n"
   ]
  },
  {
   "cell_type": "markdown",
   "id": "e9f233e7",
   "metadata": {},
   "source": [
    "##  What month had the most precipitation between 2000 through 2010?\n",
    "\n",
    "<mark> * October 2000 </mark>"
   ]
  },
  {
   "cell_type": "code",
   "execution_count": 443,
   "id": "b0cb7f99",
   "metadata": {},
   "outputs": [
    {
     "data": {
      "text/html": [
       "<div>\n",
       "<style scoped>\n",
       "    .dataframe tbody tr th:only-of-type {\n",
       "        vertical-align: middle;\n",
       "    }\n",
       "\n",
       "    .dataframe tbody tr th {\n",
       "        vertical-align: top;\n",
       "    }\n",
       "\n",
       "    .dataframe thead th {\n",
       "        text-align: right;\n",
       "    }\n",
       "</style>\n",
       "<table border=\"1\" class=\"dataframe\">\n",
       "  <thead>\n",
       "    <tr style=\"text-align: right;\">\n",
       "      <th></th>\n",
       "      <th>max_temp</th>\n",
       "      <th>mean_temp</th>\n",
       "      <th>min_temp</th>\n",
       "      <th>precipitation</th>\n",
       "      <th>snow_depth</th>\n",
       "    </tr>\n",
       "    <tr>\n",
       "      <th>datetime</th>\n",
       "      <th></th>\n",
       "      <th></th>\n",
       "      <th></th>\n",
       "      <th></th>\n",
       "      <th></th>\n",
       "    </tr>\n",
       "  </thead>\n",
       "  <tbody>\n",
       "    <tr>\n",
       "      <th>2000-01-01</th>\n",
       "      <td>12.9</td>\n",
       "      <td>11.6</td>\n",
       "      <td>10.4</td>\n",
       "      <td>6.0</td>\n",
       "      <td>0.0</td>\n",
       "    </tr>\n",
       "    <tr>\n",
       "      <th>2000-02-01</th>\n",
       "      <td>13.8</td>\n",
       "      <td>10.4</td>\n",
       "      <td>9.1</td>\n",
       "      <td>16.8</td>\n",
       "      <td>0.0</td>\n",
       "    </tr>\n",
       "    <tr>\n",
       "      <th>2000-03-01</th>\n",
       "      <td>16.6</td>\n",
       "      <td>13.9</td>\n",
       "      <td>11.2</td>\n",
       "      <td>7.2</td>\n",
       "      <td>0.0</td>\n",
       "    </tr>\n",
       "    <tr>\n",
       "      <th>2000-04-01</th>\n",
       "      <td>18.7</td>\n",
       "      <td>13.9</td>\n",
       "      <td>10.2</td>\n",
       "      <td>17.2</td>\n",
       "      <td>0.0</td>\n",
       "    </tr>\n",
       "    <tr>\n",
       "      <th>2000-05-01</th>\n",
       "      <td>26.6</td>\n",
       "      <td>21.0</td>\n",
       "      <td>15.4</td>\n",
       "      <td>19.0</td>\n",
       "      <td>0.0</td>\n",
       "    </tr>\n",
       "    <tr>\n",
       "      <th>...</th>\n",
       "      <td>...</td>\n",
       "      <td>...</td>\n",
       "      <td>...</td>\n",
       "      <td>...</td>\n",
       "      <td>...</td>\n",
       "    </tr>\n",
       "    <tr>\n",
       "      <th>2010-08-01</th>\n",
       "      <td>25.4</td>\n",
       "      <td>21.7</td>\n",
       "      <td>19.1</td>\n",
       "      <td>20.6</td>\n",
       "      <td>0.0</td>\n",
       "    </tr>\n",
       "    <tr>\n",
       "      <th>2010-09-01</th>\n",
       "      <td>23.9</td>\n",
       "      <td>19.5</td>\n",
       "      <td>16.4</td>\n",
       "      <td>9.8</td>\n",
       "      <td>0.0</td>\n",
       "    </tr>\n",
       "    <tr>\n",
       "      <th>2010-10-01</th>\n",
       "      <td>21.1</td>\n",
       "      <td>17.0</td>\n",
       "      <td>15.2</td>\n",
       "      <td>21.8</td>\n",
       "      <td>0.0</td>\n",
       "    </tr>\n",
       "    <tr>\n",
       "      <th>2010-11-01</th>\n",
       "      <td>18.5</td>\n",
       "      <td>16.0</td>\n",
       "      <td>13.4</td>\n",
       "      <td>4.6</td>\n",
       "      <td>0.0</td>\n",
       "    </tr>\n",
       "    <tr>\n",
       "      <th>2010-12-01</th>\n",
       "      <td>9.5</td>\n",
       "      <td>6.9</td>\n",
       "      <td>6.1</td>\n",
       "      <td>6.0</td>\n",
       "      <td>7.0</td>\n",
       "    </tr>\n",
       "  </tbody>\n",
       "</table>\n",
       "<p>132 rows × 5 columns</p>\n",
       "</div>"
      ],
      "text/plain": [
       "            max_temp  mean_temp  min_temp  precipitation  snow_depth\n",
       "datetime                                                            \n",
       "2000-01-01      12.9       11.6      10.4            6.0         0.0\n",
       "2000-02-01      13.8       10.4       9.1           16.8         0.0\n",
       "2000-03-01      16.6       13.9      11.2            7.2         0.0\n",
       "2000-04-01      18.7       13.9      10.2           17.2         0.0\n",
       "2000-05-01      26.6       21.0      15.4           19.0         0.0\n",
       "...              ...        ...       ...            ...         ...\n",
       "2010-08-01      25.4       21.7      19.1           20.6         0.0\n",
       "2010-09-01      23.9       19.5      16.4            9.8         0.0\n",
       "2010-10-01      21.1       17.0      15.2           21.8         0.0\n",
       "2010-11-01      18.5       16.0      13.4            4.6         0.0\n",
       "2010-12-01       9.5        6.9       6.1            6.0         7.0\n",
       "\n",
       "[132 rows x 5 columns]"
      ]
     },
     "execution_count": 443,
     "metadata": {},
     "output_type": "execute_result"
    }
   ],
   "source": [
    "#Slicing out 2000-2010\n",
    "df_ten_years = df.loc['2000':'2010']\n",
    "#Setting frequency to 1st of month\n",
    "df_ten_years = df_ten_years.resample(\"MS\").max()\n",
    "df_ten_years"
   ]
  },
  {
   "cell_type": "code",
   "execution_count": 444,
   "id": "f206dade",
   "metadata": {},
   "outputs": [
    {
     "data": {
      "text/plain": [
       "Timestamp('2000-10-01 00:00:00', freq='MS')"
      ]
     },
     "execution_count": 444,
     "metadata": {},
     "output_type": "execute_result"
    }
   ],
   "source": [
    "#Using .idxmax() to get max value of precipitation\n",
    "df_ten_years[\"precipitation\"].idxmax()"
   ]
  },
  {
   "cell_type": "markdown",
   "id": "1ac28816",
   "metadata": {},
   "source": [
    "## Visualizing Precipitation\n",
    "\n",
    "Customize the major xaxis ticks to:\n",
    "* Have major xaxis ticks every 1 year.\n",
    "* Use 4-digit years for the labels\n",
    "* Rotate the major ticks' labels 90 degrees.\n",
    "\n",
    "Customize the minor xaxis ticks to:\n",
    "* Have minor xaxis ticks every 3 months\n",
    "* Do not label the minor ticks."
   ]
  },
  {
   "cell_type": "code",
   "execution_count": 445,
   "id": "90ad8e1c",
   "metadata": {},
   "outputs": [],
   "source": [
    "## creating our tick locators and formatters\n",
    "## major ticks\n",
    "# create the locator to place ticks every 1 year.\n",
    "loc_years = mdates.YearLocator()\n",
    "# create the formatter to display 3-letter month names + 2-digit year\n",
    "fmt_years = mdates.DateFormatter(\"%Y\")\n",
    "## for minor ticks\n",
    "# create the locator to place ticks every 3 months.\n",
    "loc_3months = mdates.MonthLocator(interval=3)"
   ]
  },
  {
   "cell_type": "code",
   "execution_count": 446,
   "id": "6887fc41",
   "metadata": {},
   "outputs": [
    {
     "data": {
      "image/png": "[encoded data removed]",
      "text/plain": [
       "<Figure size 1200x300 with 1 Axes>"
      ]
     },
     "metadata": {},
     "output_type": "display_data"
    }
   ],
   "source": [
    "# Plot the feature and time period that corresponds to the question.\n",
    "fig, ax = plt.subplots(figsize=(12,3))\n",
    "#plotting just the precipitation feature by year\n",
    "df_ten_years[\"precipitation\"].plot(ax=ax)\n",
    "ax.grid(which=\"major\", axis=\"x\", color=\"m\")\n",
    "#Setting labels\n",
    "ax.set_ylabel(\"Inches\", fontweight=\"bold\")\n",
    "ax.set_title(\"Precipitation for 2000-2010\", fontweight=\"bold\")\n",
    "fig.autofmt_xdate(rotation=90, ha=\"center\");"
   ]
  },
  {
   "cell_type": "markdown",
   "id": "8883e19d",
   "metadata": {},
   "source": [
    "# Which year between 2000-2020 had the coolest average temperature?"
   ]
  },
  {
   "cell_type": "code",
   "execution_count": 449,
   "id": "0f78df91",
   "metadata": {},
   "outputs": [
    {
     "data": {
      "text/plain": [
       "datetime\n",
       "2000-12-31    8.001503\n",
       "2001-12-31    7.647397\n",
       "2002-12-31    8.425890\n",
       "2003-12-31    7.895890\n",
       "2004-12-31    8.234563\n",
       "2005-12-31    7.973562\n",
       "2006-12-31    8.506301\n",
       "2007-12-31    8.120137\n",
       "2008-12-31    7.568852\n",
       "2009-12-31    7.736164\n",
       "2010-12-31    6.801370\n",
       "2011-12-31    8.338219\n",
       "2012-12-31    7.378005\n",
       "2013-12-31    7.362603\n",
       "2014-12-31    8.647534\n",
       "2015-12-31    8.185753\n",
       "2016-12-31    7.925820\n",
       "2017-12-31    8.340959\n",
       "2018-12-31    8.321918\n",
       "2019-12-31    7.932055\n",
       "2020-12-31    8.688798\n",
       "Freq: A-DEC, Name: min_temp, dtype: float64"
      ]
     },
     "execution_count": 449,
     "metadata": {},
     "output_type": "execute_result"
    }
   ],
   "source": [
    "#Slicing out 2000-2010\n",
    "df_20_years = df.loc['2000':'2020']\n",
    "#Setting frequency to 1st of month\n",
    "# group the data by year and then apply the mean() function to calculate the mean for each group.\n",
    "df_20_years = df_20_years.resample(\"Y\").mean()\n",
    "df_20_years[\"min_temp\"]"
   ]
  },
  {
   "cell_type": "code",
   "execution_count": 433,
   "id": "8e47318e",
   "metadata": {},
   "outputs": [
    {
     "data": {
      "text/plain": [
       "Timestamp('2010-12-31 00:00:00', freq='A-DEC')"
      ]
     },
     "execution_count": 433,
     "metadata": {},
     "output_type": "execute_result"
    }
   ],
   "source": [
    "df_20_years[\"min_temp\"].idxmin()"
   ]
  },
  {
   "cell_type": "code",
   "execution_count": 450,
   "id": "364e820b",
   "metadata": {},
   "outputs": [
    {
     "data": {
      "image/png": "[encoded data removed]",
      "text/plain": [
       "<Figure size 1200x300 with 1 Axes>"
      ]
     },
     "metadata": {},
     "output_type": "display_data"
    }
   ],
   "source": [
    "# Plot the feature and time period that corresponds to the question.\n",
    "fig, ax = plt.subplots(figsize=(12,3))\n",
    "#plotting just the precipitation feature by year\n",
    "df_20_years[\"min_temp\"].plot(ax=ax)\n",
    "ax.grid(which=\"major\", axis=\"x\", color=\"m\")\n",
    "#Setting labels\n",
    "ax.set_ylabel(\"Degrees\", fontweight=\"bold\")\n",
    "ax.set_title(\"Average Temperature\", fontweight=\"bold\")\n",
    "fig.autofmt_xdate(rotation=90, ha=\"center\");"
   ]
  }
 ],
 "metadata": {
  "kernelspec": {
   "display_name": "Python (dojo-env)",
   "language": "python",
   "name": "dojo-env"
  },
  "language_info": {
   "codemirror_mode": {
    "name": "ipython",
    "version": 3
   },
   "file_extension": ".py",
   "mimetype": "text/x-python",
   "name": "python",
   "nbconvert_exporter": "python",
   "pygments_lexer": "ipython3",
   "version": "3.9.15"
  },
  "toc": {
   "base_numbering": 1,
   "nav_menu": {},
   "number_sections": true,
   "sideBar": true,
   "skip_h1_title": false,
   "title_cell": "Table of Contents",
   "title_sidebar": "Contents",
   "toc_cell": false,
   "toc_position": {},
   "toc_section_display": true,
   "toc_window_display": false
  },
  "varInspector": {
   "cols": {
    "lenName": 16,
    "lenType": 16,
    "lenVar": 40
   },
   "kernels_config": {
    "python": {
     "delete_cmd_postfix": "",
     "delete_cmd_prefix": "del ",
     "library": "var_list.py",
     "varRefreshCmd": "print(var_dic_list())"
    },
    "r": {
     "delete_cmd_postfix": ") ",
     "delete_cmd_prefix": "rm(",
     "library": "var_list.r",
     "varRefreshCmd": "cat(var_dic_list()) "
    }
   },
   "types_to_exclude": [
    "module",
    "function",
    "builtin_function_or_method",
    "instance",
    "_Feature"
   ],
   "window_display": false
  }
 },
 "nbformat": 4,
 "nbformat_minor": 5
}
